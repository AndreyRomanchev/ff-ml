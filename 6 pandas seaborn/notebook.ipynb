{
 "cells": [
  {
   "cell_type": "code",
   "execution_count": 8,
   "outputs": [],
   "source": [
    "import pandas as pd\n",
    "df = pd.read_csv('adult.xls')"
   ],
   "metadata": {
    "collapsed": false,
    "pycharm": {
     "name": "#%%\n"
    }
   }
  },
  {
   "cell_type": "code",
   "execution_count": 9,
   "metadata": {},
   "outputs": [
    {
     "data": {
      "text/plain": " <=50K    0.568966\n >50K     0.431034\nName: salary, dtype: float64"
     },
     "execution_count": 9,
     "metadata": {},
     "output_type": "execute_result"
    }
   ],
   "source": [
    "df[(df['native-country'] == ' Germany') & (df['age'] > 40)]['salary'].value_counts(normalize=True)"
   ]
  },
  {
   "cell_type": "code",
   "execution_count": 5,
   "metadata": {},
   "outputs": [
    {
     "data": {
      "text/plain": "race                 sex    \n Amer-Indian-Eskimo   Female    37.117647\n Asian-Pac-Islander   Female    35.089595\n Black                Female    37.854019\n Other                Female    31.678899\n White                Female    36.811618\nName: age, dtype: float64"
     },
     "execution_count": 5,
     "metadata": {},
     "output_type": "execute_result"
    }
   ],
   "source": [
    "df[df['sex'] == ' Female'].groupby(['race','sex'])['age'].mean()"
   ]
  },
  {
   "cell_type": "code",
   "execution_count": 11,
   "metadata": {
    "pycharm": {
     "name": "#%%\n"
    }
   },
   "outputs": [
    {
     "data": {
      "text/plain": "                             hours-per-week\nnative-country                             \n Hungary                           0.153846\n Thailand                          0.277778\n Outlying-US(Guam-USVI-etc)        0.357143\n France                            0.379310\n Honduras                          0.384615\n Haiti                             0.386364\n Germany                           0.394161\n Canada                            0.396694\n South                             0.400000\n Greece                            0.413793\n Iran                              0.418605\n Ecuador                           0.428571\n Taiwan                            0.431373\n England                           0.455556\n United-States                     0.459993\n India                             0.470000\n ?                                 0.488851\n Ireland                           0.500000\n Japan                             0.500000\n Jamaica                           0.506173\n China                             0.506667\n Peru                              0.516129\n Italy                             0.520548\n Trinadad&Tobago                   0.526316\n El-Salvador                       0.547170\n Nicaragua                         0.558824\n Dominican-Republic                0.571429\n Columbia                          0.576271\n Mexico                            0.580093\n Scotland                          0.583333\n Cuba                              0.589474\n Puerto-Rico                       0.605263\n Yugoslavia                        0.625000\n Poland                            0.633333\n Portugal                          0.648649\n Hong                              0.650000\n Guatemala                         0.671875\n Philippines                       0.676768\n Laos                              0.722222\n Vietnam                           0.731343\n Cambodia                          0.842105\n Holand-Netherlands                1.000000",
      "text/html": "<div>\n<style scoped>\n    .dataframe tbody tr th:only-of-type {\n        vertical-align: middle;\n    }\n\n    .dataframe tbody tr th {\n        vertical-align: top;\n    }\n\n    .dataframe thead th {\n        text-align: right;\n    }\n</style>\n<table border=\"1\" class=\"dataframe\">\n  <thead>\n    <tr style=\"text-align: right;\">\n      <th></th>\n      <th>hours-per-week</th>\n    </tr>\n    <tr>\n      <th>native-country</th>\n      <th></th>\n    </tr>\n  </thead>\n  <tbody>\n    <tr>\n      <th>Hungary</th>\n      <td>0.153846</td>\n    </tr>\n    <tr>\n      <th>Thailand</th>\n      <td>0.277778</td>\n    </tr>\n    <tr>\n      <th>Outlying-US(Guam-USVI-etc)</th>\n      <td>0.357143</td>\n    </tr>\n    <tr>\n      <th>France</th>\n      <td>0.379310</td>\n    </tr>\n    <tr>\n      <th>Honduras</th>\n      <td>0.384615</td>\n    </tr>\n    <tr>\n      <th>Haiti</th>\n      <td>0.386364</td>\n    </tr>\n    <tr>\n      <th>Germany</th>\n      <td>0.394161</td>\n    </tr>\n    <tr>\n      <th>Canada</th>\n      <td>0.396694</td>\n    </tr>\n    <tr>\n      <th>South</th>\n      <td>0.400000</td>\n    </tr>\n    <tr>\n      <th>Greece</th>\n      <td>0.413793</td>\n    </tr>\n    <tr>\n      <th>Iran</th>\n      <td>0.418605</td>\n    </tr>\n    <tr>\n      <th>Ecuador</th>\n      <td>0.428571</td>\n    </tr>\n    <tr>\n      <th>Taiwan</th>\n      <td>0.431373</td>\n    </tr>\n    <tr>\n      <th>England</th>\n      <td>0.455556</td>\n    </tr>\n    <tr>\n      <th>United-States</th>\n      <td>0.459993</td>\n    </tr>\n    <tr>\n      <th>India</th>\n      <td>0.470000</td>\n    </tr>\n    <tr>\n      <th>?</th>\n      <td>0.488851</td>\n    </tr>\n    <tr>\n      <th>Ireland</th>\n      <td>0.500000</td>\n    </tr>\n    <tr>\n      <th>Japan</th>\n      <td>0.500000</td>\n    </tr>\n    <tr>\n      <th>Jamaica</th>\n      <td>0.506173</td>\n    </tr>\n    <tr>\n      <th>China</th>\n      <td>0.506667</td>\n    </tr>\n    <tr>\n      <th>Peru</th>\n      <td>0.516129</td>\n    </tr>\n    <tr>\n      <th>Italy</th>\n      <td>0.520548</td>\n    </tr>\n    <tr>\n      <th>Trinadad&amp;Tobago</th>\n      <td>0.526316</td>\n    </tr>\n    <tr>\n      <th>El-Salvador</th>\n      <td>0.547170</td>\n    </tr>\n    <tr>\n      <th>Nicaragua</th>\n      <td>0.558824</td>\n    </tr>\n    <tr>\n      <th>Dominican-Republic</th>\n      <td>0.571429</td>\n    </tr>\n    <tr>\n      <th>Columbia</th>\n      <td>0.576271</td>\n    </tr>\n    <tr>\n      <th>Mexico</th>\n      <td>0.580093</td>\n    </tr>\n    <tr>\n      <th>Scotland</th>\n      <td>0.583333</td>\n    </tr>\n    <tr>\n      <th>Cuba</th>\n      <td>0.589474</td>\n    </tr>\n    <tr>\n      <th>Puerto-Rico</th>\n      <td>0.605263</td>\n    </tr>\n    <tr>\n      <th>Yugoslavia</th>\n      <td>0.625000</td>\n    </tr>\n    <tr>\n      <th>Poland</th>\n      <td>0.633333</td>\n    </tr>\n    <tr>\n      <th>Portugal</th>\n      <td>0.648649</td>\n    </tr>\n    <tr>\n      <th>Hong</th>\n      <td>0.650000</td>\n    </tr>\n    <tr>\n      <th>Guatemala</th>\n      <td>0.671875</td>\n    </tr>\n    <tr>\n      <th>Philippines</th>\n      <td>0.676768</td>\n    </tr>\n    <tr>\n      <th>Laos</th>\n      <td>0.722222</td>\n    </tr>\n    <tr>\n      <th>Vietnam</th>\n      <td>0.731343</td>\n    </tr>\n    <tr>\n      <th>Cambodia</th>\n      <td>0.842105</td>\n    </tr>\n    <tr>\n      <th>Holand-Netherlands</th>\n      <td>1.000000</td>\n    </tr>\n  </tbody>\n</table>\n</div>"
     },
     "execution_count": 11,
     "metadata": {},
     "output_type": "execute_result"
    }
   ],
   "source": [
    "number_of_people = df.groupby('native-country')['hours-per-week'].count()\n",
    "hard_working_people = df[df['hours-per-week'] == 40].groupby('native-country')['hours-per-week'].count()\n",
    "\n",
    "relation = (hard_working_people / number_of_people).to_frame()\n",
    "\n",
    "relation.sort_values('hours-per-week')"
   ]
  }
 ],
 "metadata": {
  "kernelspec": {
   "display_name": "Python 3",
   "language": "python",
   "name": "python3"
  },
  "language_info": {
   "codemirror_mode": {
    "name": "ipython",
    "version": 3
   },
   "file_extension": ".py",
   "mimetype": "text/x-python",
   "name": "python",
   "nbconvert_exporter": "python",
   "pygments_lexer": "ipython3",
   "version": "3.8.5"
  }
 },
 "nbformat": 4,
 "nbformat_minor": 4
}